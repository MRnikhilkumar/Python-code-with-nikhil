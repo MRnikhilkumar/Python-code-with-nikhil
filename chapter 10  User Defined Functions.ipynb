{
 "cells": [
  {
   "cell_type": "markdown",
   "id": "f2130d82-6b0f-4a68-82e6-e88fd009bc96",
   "metadata": {},
   "source": [
    "User Define Function "
   ]
  },
  {
   "cell_type": "raw",
   "id": "a691731b-e79c-4c7d-bb2e-458d4490ca0b",
   "metadata": {},
   "source": [
    "its use to created by the user to perform specific tasks in a program. These are customized to meet the unique requirements of a program, enhancing code reusability, readability, and efficiency."
   ]
  },
  {
   "cell_type": "code",
   "execution_count": 12,
   "id": "76aa78b8-d8bd-4fda-bc95-7779529a2743",
   "metadata": {},
   "outputs": [],
   "source": [
    "def new_function():\n",
    "    print(\"I am nikhil\")"
   ]
  },
  {
   "cell_type": "code",
   "execution_count": 13,
   "id": "3dbfd2ca-7da8-443a-9d0a-a9557b7e4eb5",
   "metadata": {},
   "outputs": [
    {
     "name": "stdout",
     "output_type": "stream",
     "text": [
      "I am nikhil\n"
     ]
    }
   ],
   "source": [
    "new_function()"
   ]
  },
  {
   "cell_type": "code",
   "execution_count": 14,
   "id": "16ef41fe-a968-45fb-a6fc-d4dcd13bd69d",
   "metadata": {},
   "outputs": [],
   "source": [
    "def road_safty():\n",
    "    print(\"Always wear healmet\")\n",
    "    print(\"license is mendeatory\")\n",
    "    print(\"RC is Require\")"
   ]
  },
  {
   "cell_type": "code",
   "execution_count": 23,
   "id": "b392dbfc-3f1d-4870-af47-7084f37a8137",
   "metadata": {},
   "outputs": [
    {
     "name": "stdin",
     "output_type": "stream",
     "text": [
      "Enter Your name  raman\n",
      "Enter your age  34\n",
      "Enter vehical number  rjxxxxxx89\n"
     ]
    },
    {
     "name": "stdout",
     "output_type": "stream",
     "text": [
      "Always wear healmet\n",
      "license is mendeatory\n",
      "RC is Require\n"
     ]
    },
    {
     "name": "stdin",
     "output_type": "stream",
     "text": [
      "Enter Your name  tanish\n",
      "Enter your age  44\n",
      "Enter vehical number  gjxxxxxx90\n"
     ]
    },
    {
     "name": "stdout",
     "output_type": "stream",
     "text": [
      "Always wear healmet\n",
      "license is mendeatory\n",
      "RC is Require\n"
     ]
    },
    {
     "name": "stdin",
     "output_type": "stream",
     "text": [
      "Enter Your name  surya\n",
      "Enter your age  39\n",
      "Enter vehical number  TLxxxxxx45\n"
     ]
    },
    {
     "name": "stdout",
     "output_type": "stream",
     "text": [
      "Always wear healmet\n",
      "license is mendeatory\n",
      "RC is Require\n"
     ]
    }
   ],
   "source": [
    "for i in range (3):\n",
    "    a = input(\"Enter Your name\" \" \")           # {  \" \"  } it's use to take space in line\n",
    "    b = input(\"Enter your age\" \" \")\n",
    "    c = input(\"Enter vehical number\" \" \")\n",
    "    road_safty()"
   ]
  },
  {
   "cell_type": "code",
   "execution_count": 24,
   "id": "9d5c1f2f-db61-4118-ba71-66a6afdf5ddf",
   "metadata": {},
   "outputs": [],
   "source": [
    "def even_odd_cheaker(number):\n",
    "    if number%2==0:\n",
    "        print(\"number is even\")\n",
    "    else:\n",
    "        print(\"number is odd\")"
   ]
  },
  {
   "cell_type": "code",
   "execution_count": 25,
   "id": "373eae82-9042-4d50-9ede-142c81706c23",
   "metadata": {},
   "outputs": [
    {
     "name": "stdout",
     "output_type": "stream",
     "text": [
      "number is odd\n"
     ]
    }
   ],
   "source": [
    "even_odd_cheaker(62787)"
   ]
  },
  {
   "cell_type": "code",
   "execution_count": 26,
   "id": "e72dea2f-6f56-4737-9abc-6131d761e760",
   "metadata": {},
   "outputs": [],
   "source": [
    "def name():\n",
    "    print(\"Hello user i am nikhil\")"
   ]
  },
  {
   "cell_type": "code",
   "execution_count": 11,
   "id": "c1225c0f-e68e-4d69-a8af-03daf70fc36f",
   "metadata": {},
   "outputs": [
    {
     "name": "stdout",
     "output_type": "stream",
     "text": [
      "Hello user i am nikhil\n"
     ]
    }
   ],
   "source": [
    "name()"
   ]
  },
  {
   "cell_type": "code",
   "execution_count": 36,
   "id": "19985a0f-78e5-4568-abf3-a5223fc203d9",
   "metadata": {},
   "outputs": [],
   "source": [
    "def my_name(fname, lname):   \n",
    "    print(fname +  lname)"
   ]
  },
  {
   "cell_type": "code",
   "execution_count": 39,
   "id": "a7af7cda-5957-4bf7-ab5c-85f20f00e123",
   "metadata": {},
   "outputs": [
    {
     "name": "stdout",
     "output_type": "stream",
     "text": [
      "nikhilkumar\n"
     ]
    }
   ],
   "source": [
    "my_name(\"nikhil\",\"kumar\") "
   ]
  },
  {
   "cell_type": "code",
   "execution_count": null,
   "id": "781cbf6c-2798-48f9-bf86-302becc7941d",
   "metadata": {},
   "outputs": [],
   "source": []
  },
  {
   "cell_type": "code",
   "execution_count": null,
   "id": "be37d371-431c-4b64-8002-d34396427628",
   "metadata": {},
   "outputs": [],
   "source": []
  },
  {
   "cell_type": "raw",
   "id": "89a4c900-f8b1-4e2c-97cf-4419b1cc413f",
   "metadata": {},
   "source": [
    "Q1: find average exam score \n",
    "    find highest exam score \n",
    "    find lowest exam score\n",
    "    find number of student who passed the exam \n",
    "    find number of student who failed the exam \n",
    "    exam_scores = [85, 92, 78, 90, 88, 95, 82, 79, 87, 91]"
   ]
  },
  {
   "cell_type": "code",
   "execution_count": 68,
   "id": "70dfdcb3-7ed8-4404-a5ba-eb4b9e17e421",
   "metadata": {},
   "outputs": [],
   "source": [
    "exam_scores = [85, 92, 78, 90, 88, 95, 82, 79, 87, 91]\n",
    "def calcuate_exam_data(exam_score):   \n",
    "    num_student = len(exam_scores)\n",
    "    average_score = sum(exam_scores)/num_student\n",
    "    highest_score = max(exam_scores)\n",
    "    lowest_score = min(exam_scores)\n",
    "\n",
    "    num_passed = 0\n",
    "    for scores in exam_scores:\n",
    "        if scores>=80:\n",
    "            num_passed = num_passed +1\n",
    "    num_failed = num_student - num_passed\n",
    "    return average_score, highest_score, lowest_score, num_passed, num_failed"
   ]
  },
  {
   "cell_type": "code",
   "execution_count": 71,
   "id": "f3e4cdf1-6b3a-41f3-a94c-5914b43a01dd",
   "metadata": {},
   "outputs": [
    {
     "name": "stdout",
     "output_type": "stream",
     "text": [
      "The average score is 86.7\n",
      "The highest score is 95\n",
      "The lowest score is 78\n",
      "The number of student passed in 8\n",
      "The number of student failed in 2\n"
     ]
    }
   ],
   "source": [
    "exam_scores = [85, 92, 78, 90, 88, 95, 82, 79, 87, 91]\n",
    "average_score, highest_score, lowest_score, num_passed, num_failed = calculate_exam_data(exam_scores)\n",
    "\n",
    "print(\"The average score is\", average_score)\n",
    "print(\"The highest score is\", highest_score)\n",
    "print(\"The lowest score is\", lowest_score)\n",
    "print(\"The number of student passed in\", num_passed)\n",
    "print(\"The number of student failed in\", num_failed)"
   ]
  },
  {
   "cell_type": "code",
   "execution_count": null,
   "id": "f69e502c-8c06-46e4-a704-8351b1bd7073",
   "metadata": {},
   "outputs": [],
   "source": []
  }
 ],
 "metadata": {
  "kernelspec": {
   "display_name": "Python 3 (ipykernel)",
   "language": "python",
   "name": "python3"
  },
  "language_info": {
   "codemirror_mode": {
    "name": "ipython",
    "version": 3
   },
   "file_extension": ".py",
   "mimetype": "text/x-python",
   "name": "python",
   "nbconvert_exporter": "python",
   "pygments_lexer": "ipython3",
   "version": "3.12.7"
  }
 },
 "nbformat": 4,
 "nbformat_minor": 5
}
