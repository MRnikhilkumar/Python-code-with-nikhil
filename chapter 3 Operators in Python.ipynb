{
 "cells": [
  {
   "cell_type": "markdown",
   "id": "ef7ab51e-e7d2-47ec-b85f-d061980e7cc5",
   "metadata": {},
   "source": [
    "Operators in Python "
   ]
  },
  {
   "cell_type": "markdown",
   "id": "9b64599f-a838-4dad-a0a6-6ae24420b634",
   "metadata": {},
   "source": [
    "1. arithmetic operator\n",
    "2. compression operator\n",
    "3. assignment operator\n",
    "4. bitwise operator\n",
    "5. logical operators"
   ]
  },
  {
   "cell_type": "markdown",
   "id": "41a4324a-6458-4089-b4f1-3a6e4751c876",
   "metadata": {},
   "source": [
    "(1) Addition "
   ]
  },
  {
   "cell_type": "code",
   "execution_count": 1,
   "id": "9cbf1f30-07d3-4484-a900-e82f651a4a16",
   "metadata": {},
   "outputs": [
    {
     "name": "stdout",
     "output_type": "stream",
     "text": [
      "114\n"
     ]
    }
   ],
   "source": [
    "a = 56\n",
    "b = 58\n",
    "print(a+b)"
   ]
  },
  {
   "cell_type": "code",
   "execution_count": 2,
   "id": "b6ac555a-1158-4d94-aab6-be39c66c2677",
   "metadata": {},
   "outputs": [
    {
     "name": "stdout",
     "output_type": "stream",
     "text": [
      "126.92\n"
     ]
    }
   ],
   "source": [
    "a = 48.56\n",
    "b = 78.36\n",
    "print(a+b)"
   ]
  },
  {
   "cell_type": "code",
   "execution_count": 5,
   "id": "9ce456f8-41ac-4204-ae80-97e0f8a8fe49",
   "metadata": {},
   "outputs": [
    {
     "name": "stdout",
     "output_type": "stream",
     "text": [
      "nikhil kumar\n"
     ]
    }
   ],
   "source": [
    "a = \"nikhil\"\n",
    "b = \"kumar\"\n",
    "print(a+ \" \" +b)"
   ]
  },
  {
   "cell_type": "code",
   "execution_count": 10,
   "id": "93b32898-019a-467b-a5e0-cb5aacc18634",
   "metadata": {},
   "outputs": [
    {
     "name": "stdout",
     "output_type": "stream",
     "text": [
      "(10+9j)\n"
     ]
    }
   ],
   "source": [
    "a = 1+3j\n",
    "b = 9+6j\n",
    "print(a+b)"
   ]
  },
  {
   "cell_type": "code",
   "execution_count": 11,
   "id": "2f6cdead-9790-4b23-b131-76025f53db9d",
   "metadata": {},
   "outputs": [
    {
     "name": "stdout",
     "output_type": "stream",
     "text": [
      "36\n"
     ]
    }
   ],
   "source": [
    "a = -57\n",
    "b = 93\n",
    "print(a+b)"
   ]
  },
  {
   "cell_type": "markdown",
   "id": "3181eccc-a330-4382-88f7-153e42fddcdd",
   "metadata": {},
   "source": [
    "(2)  Substraction"
   ]
  },
  {
   "cell_type": "code",
   "execution_count": 12,
   "id": "21918f70-acfb-45ad-8ed1-709a44a7136a",
   "metadata": {},
   "outputs": [
    {
     "name": "stdout",
     "output_type": "stream",
     "text": [
      "26\n"
     ]
    }
   ],
   "source": [
    "a = 75\n",
    "b = 49\n",
    "print(a-b)"
   ]
  },
  {
   "cell_type": "code",
   "execution_count": 13,
   "id": "6997c2ec-d5dc-41ac-a4b5-36e6dbdbd767",
   "metadata": {},
   "outputs": [
    {
     "name": "stdout",
     "output_type": "stream",
     "text": [
      "26.78\n"
     ]
    }
   ],
   "source": [
    "a = 75.97\n",
    "b = 49.19\n",
    "print(a-b)"
   ]
  },
  {
   "cell_type": "code",
   "execution_count": 16,
   "id": "0a967f8d-0b0a-4eee-bc28-f789d4c13602",
   "metadata": {},
   "outputs": [],
   "source": [
    "# a = nikhil        String are not be substracted \n",
    "# b = human \n",
    "# print(a-b)"
   ]
  },
  {
   "cell_type": "code",
   "execution_count": 17,
   "id": "8c6e7ab9-6f56-46c9-8d32-ffd0e70fbe01",
   "metadata": {},
   "outputs": [
    {
     "name": "stdout",
     "output_type": "stream",
     "text": [
      "(17+7j)\n"
     ]
    }
   ],
   "source": [
    "x = 9+5j\n",
    "y = 8+2j\n",
    "print(x+y)"
   ]
  },
  {
   "cell_type": "markdown",
   "id": "c0c58924-84ca-46f1-b11b-9f9c8fbd32ab",
   "metadata": {},
   "source": [
    "(3) Multiplication "
   ]
  },
  {
   "cell_type": "code",
   "execution_count": 18,
   "id": "378d75da-5ac5-4ca7-8634-90cb53369836",
   "metadata": {},
   "outputs": [
    {
     "name": "stdout",
     "output_type": "stream",
     "text": [
      "3248\n"
     ]
    }
   ],
   "source": [
    "a = 56\n",
    "b = 58\n",
    "print(a*b)"
   ]
  },
  {
   "cell_type": "code",
   "execution_count": 20,
   "id": "51999b51-4071-46c6-8696-6a7bc27499e2",
   "metadata": {},
   "outputs": [
    {
     "name": "stdout",
     "output_type": "stream",
     "text": [
      "-2808\n"
     ]
    }
   ],
   "source": [
    "a = -54\n",
    "b = 52\n",
    "print(a*b)"
   ]
  },
  {
   "cell_type": "code",
   "execution_count": 22,
   "id": "149d6bfa-79f8-43e5-8cfa-297e74f94bd8",
   "metadata": {},
   "outputs": [
    {
     "name": "stdout",
     "output_type": "stream",
     "text": [
      "3292.2875187892723\n"
     ]
    }
   ],
   "source": [
    "a = 56.32185198798180988218\n",
    "b = 58.4548874474474656141546\n",
    "print(a*b)"
   ]
  },
  {
   "cell_type": "code",
   "execution_count": 36,
   "id": "83880497-30a9-4745-ac2a-2f2909f6afea",
   "metadata": {},
   "outputs": [],
   "source": [
    "# a = \"nikhil\"         \n",
    "# b = \"kumar\"           String not be multiplied \n",
    "# print(a*b)"
   ]
  },
  {
   "cell_type": "code",
   "execution_count": 37,
   "id": "3514e0da-c3d4-48d6-a973-6d5d99d490f0",
   "metadata": {},
   "outputs": [
    {
     "name": "stdout",
     "output_type": "stream",
     "text": [
      "nikhilnikhilnikhilnikhilnikhil\n"
     ]
    }
   ],
   "source": [
    "x = \"nikhil\"\n",
    "print(x*5)"
   ]
  },
  {
   "cell_type": "code",
   "execution_count": 38,
   "id": "6c7ffa60-cc39-47bb-b967-a846e23f40fe",
   "metadata": {},
   "outputs": [
    {
     "name": "stdout",
     "output_type": "stream",
     "text": [
      "(62+58j)\n"
     ]
    }
   ],
   "source": [
    "x = 9+5j\n",
    "y = 8+2j\n",
    "print(x*y)"
   ]
  },
  {
   "cell_type": "markdown",
   "id": "3f655ff3-b726-491d-9c71-64033b552a3d",
   "metadata": {},
   "source": [
    "(4) Division"
   ]
  },
  {
   "cell_type": "code",
   "execution_count": 39,
   "id": "59159f99-02a7-4b44-a4a5-50340eccfee1",
   "metadata": {},
   "outputs": [
    {
     "name": "stdout",
     "output_type": "stream",
     "text": [
      "0.9655172413793104\n"
     ]
    }
   ],
   "source": [
    "a = 56\n",
    "b = 58\n",
    "print(a/b)"
   ]
  },
  {
   "cell_type": "code",
   "execution_count": 40,
   "id": "cce639c7-c5aa-474d-a0ca-53af7b760c22",
   "metadata": {},
   "outputs": [
    {
     "name": "stdout",
     "output_type": "stream",
     "text": [
      "0.9601375211131157\n"
     ]
    }
   ],
   "source": [
    "a = 56.1541854\n",
    "b = 58.485565\n",
    "print(a/b)"
   ]
  },
  {
   "cell_type": "code",
   "execution_count": 41,
   "id": "92386c20-f6ed-4852-bbb9-fb2e875453e1",
   "metadata": {},
   "outputs": [
    {
     "name": "stdout",
     "output_type": "stream",
     "text": [
      "(1.5+0.5j)\n"
     ]
    }
   ],
   "source": [
    "x = 5+5j\n",
    "y = 4+2j\n",
    "print(x/y)"
   ]
  },
  {
   "cell_type": "code",
   "execution_count": null,
   "id": "3b36e927-912f-455e-a500-906fe88f0c1a",
   "metadata": {},
   "outputs": [],
   "source": [
    "# a = \"nikhil\"         \n",
    "# b = \"kumar\"           String not be divided\n",
    "# print(a/b)"
   ]
  },
  {
   "cell_type": "markdown",
   "id": "2203f69f-3e72-4bc0-8795-1dbd385ac665",
   "metadata": {},
   "source": [
    "(5) Modulous"
   ]
  },
  {
   "cell_type": "code",
   "execution_count": 44,
   "id": "de7fabab-ad47-4c76-8635-3df8447b73c4",
   "metadata": {},
   "outputs": [
    {
     "name": "stdout",
     "output_type": "stream",
     "text": [
      "1\n"
     ]
    }
   ],
   "source": [
    "a = 56\n",
    "b = 55\n",
    "print(a%b)"
   ]
  },
  {
   "cell_type": "code",
   "execution_count": 45,
   "id": "ae0a0f86-81fc-458a-a6ee-a1d9062bb45e",
   "metadata": {},
   "outputs": [
    {
     "name": "stdout",
     "output_type": "stream",
     "text": [
      "883987644398483\n"
     ]
    }
   ],
   "source": [
    "print(446134515041541545%148416842465714354)"
   ]
  },
  {
   "cell_type": "code",
   "execution_count": 46,
   "id": "4400d6a9-e0f4-4655-8568-1987d1a5507f",
   "metadata": {},
   "outputs": [
    {
     "name": "stdout",
     "output_type": "stream",
     "text": [
      "3.552713678800501e-15\n"
     ]
    }
   ],
   "source": [
    "a = 56\n",
    "b = 2.8\n",
    "print(a%b)"
   ]
  },
  {
   "cell_type": "code",
   "execution_count": 48,
   "id": "ed7e408f-13f8-40b4-bb3c-9c9a7d3428c9",
   "metadata": {},
   "outputs": [],
   "source": [
    "# x = 5+5j\n",
    "# # y = 4+2j    it is not possible \n",
    "# print(x%y)"
   ]
  },
  {
   "cell_type": "code",
   "execution_count": 49,
   "id": "1d83fefe-a365-4183-8dac-2ffc36d882a3",
   "metadata": {},
   "outputs": [
    {
     "name": "stdout",
     "output_type": "stream",
     "text": [
      "525170251726741432201\n"
     ]
    }
   ],
   "source": [
    "print(2444142351536254625465332//4654)"
   ]
  },
  {
   "cell_type": "code",
   "execution_count": 51,
   "id": "f1790ca9-bb9c-4d1d-9c58-b9dc08b0aa9b",
   "metadata": {},
   "outputs": [
    {
     "name": "stdout",
     "output_type": "stream",
     "text": [
      "5.0\n"
     ]
    }
   ],
   "source": [
    "print(24441.422//4654)"
   ]
  },
  {
   "cell_type": "markdown",
   "id": "b389e267-97ab-4c7d-adda-93c2879a9ca7",
   "metadata": {},
   "source": [
    "(6) Exponent"
   ]
  },
  {
   "cell_type": "code",
   "execution_count": 52,
   "id": "76b57ffb-d07b-4f99-a005-8a6072aba297",
   "metadata": {},
   "outputs": [
    {
     "name": "stdout",
     "output_type": "stream",
     "text": [
      "78510.27084945596\n"
     ]
    }
   ],
   "source": [
    "a = 56\n",
    "b = 2.8\n",
    "print(a**b)"
   ]
  },
  {
   "cell_type": "code",
   "execution_count": 56,
   "id": "6c408740-ca50-42c5-ba99-4fce41a9f5c1",
   "metadata": {},
   "outputs": [
    {
     "name": "stdout",
     "output_type": "stream",
     "text": [
      "2.585463947141626\n"
     ]
    }
   ],
   "source": [
    "weight = 90\n",
    "height = 5.9         #This is my body mass index \n",
    "h = height**2 \n",
    "print(weight/h)"
   ]
  },
  {
   "cell_type": "markdown",
   "id": "16fb1ae3-3281-490b-a867-012277593a27",
   "metadata": {},
   "source": [
    "(7) Boolen operator"
   ]
  },
  {
   "cell_type": "code",
   "execution_count": 5,
   "id": "5ba2d377-06d8-41da-b509-1c4225d94ba8",
   "metadata": {},
   "outputs": [
    {
     "name": "stdout",
     "output_type": "stream",
     "text": [
      "<class 'bool'>\n"
     ]
    }
   ],
   "source": [
    "a = True \n",
    "print(type(a))"
   ]
  },
  {
   "cell_type": "code",
   "execution_count": 6,
   "id": "5f1b93d5-e0df-4d95-89d1-e12d4b86a522",
   "metadata": {},
   "outputs": [
    {
     "name": "stdout",
     "output_type": "stream",
     "text": [
      "<class 'bool'>\n"
     ]
    }
   ],
   "source": [
    "a = False \n",
    "print(type(a))"
   ]
  },
  {
   "cell_type": "markdown",
   "id": "8b9c416c-85b1-4caf-b090-f4f9f413b76c",
   "metadata": {},
   "source": [
    "(8) Camparison Operator"
   ]
  },
  {
   "cell_type": "markdown",
   "id": "27347a9d-63bd-4269-975e-c45c86c413fd",
   "metadata": {},
   "source": [
    "In Python, comparison operators are used to compare two values. They return a Boolean value: True or False"
   ]
  },
  {
   "cell_type": "markdown",
   "id": "f71b4c79-c0c5-41df-aa4d-20298aefcfa0",
   "metadata": {},
   "source": [
    "(a) Equal to =="
   ]
  },
  {
   "cell_type": "code",
   "execution_count": 7,
   "id": "fec22880-2cd4-4e6e-a54f-8c67dd4be169",
   "metadata": {},
   "outputs": [
    {
     "name": "stdout",
     "output_type": "stream",
     "text": [
      "True\n"
     ]
    }
   ],
   "source": [
    "x = 5\n",
    "y = 5\n",
    "print(x==y)"
   ]
  },
  {
   "cell_type": "code",
   "execution_count": 8,
   "id": "b79c27c7-d1b6-4414-84ae-ddc14b57c179",
   "metadata": {},
   "outputs": [
    {
     "name": "stdout",
     "output_type": "stream",
     "text": [
      "False\n"
     ]
    }
   ],
   "source": [
    "x = 50\n",
    "y = 5\n",
    "print(x==y)"
   ]
  },
  {
   "cell_type": "markdown",
   "id": "8695f8c2-deec-4932-9c14-08b347093beb",
   "metadata": {},
   "source": [
    "(b) Not Equal !="
   ]
  },
  {
   "cell_type": "code",
   "execution_count": 10,
   "id": "3bf2c8ad-05e0-4358-8530-70cb792d4805",
   "metadata": {},
   "outputs": [
    {
     "name": "stdout",
     "output_type": "stream",
     "text": [
      "True\n"
     ]
    }
   ],
   "source": [
    "x = 5\n",
    "y = 95\n",
    "print(x!=y)"
   ]
  },
  {
   "cell_type": "code",
   "execution_count": 11,
   "id": "97b211da-73ec-4a4c-8a7b-5612e3afcad4",
   "metadata": {},
   "outputs": [
    {
     "name": "stdout",
     "output_type": "stream",
     "text": [
      "False\n"
     ]
    }
   ],
   "source": [
    "x = 95\n",
    "y = 95\n",
    "print(x!=y)"
   ]
  },
  {
   "cell_type": "markdown",
   "id": "1403ae5f-6baa-4586-b87f-6a8a9370ced3",
   "metadata": {},
   "source": [
    "(c) greater Then >"
   ]
  },
  {
   "cell_type": "code",
   "execution_count": 13,
   "id": "0ded23d3-58c4-4834-aa7f-2d34f08bb3e8",
   "metadata": {},
   "outputs": [
    {
     "name": "stdout",
     "output_type": "stream",
     "text": [
      "False\n"
     ]
    }
   ],
   "source": [
    "x = 6\n",
    "y = 73\n",
    "print(x>y)"
   ]
  },
  {
   "cell_type": "code",
   "execution_count": 14,
   "id": "f241ce12-ede9-4d65-a410-6215952eaf67",
   "metadata": {},
   "outputs": [
    {
     "name": "stdout",
     "output_type": "stream",
     "text": [
      "True\n"
     ]
    }
   ],
   "source": [
    "x = 86\n",
    "y = 73\n",
    "print(x>y)"
   ]
  },
  {
   "cell_type": "markdown",
   "id": "ddf2a58b-bddf-4d3c-8bd1-7ab29743fd92",
   "metadata": {},
   "source": [
    "(d) less then <"
   ]
  },
  {
   "cell_type": "code",
   "execution_count": 15,
   "id": "7d6625ee-ae3b-4051-932c-4ed2b6ea682c",
   "metadata": {},
   "outputs": [
    {
     "name": "stdout",
     "output_type": "stream",
     "text": [
      "False\n"
     ]
    }
   ],
   "source": [
    "x = 86\n",
    "y = 73\n",
    "print(x<y)"
   ]
  },
  {
   "cell_type": "code",
   "execution_count": 16,
   "id": "831087a1-32bd-479c-a686-b9db91c84e1f",
   "metadata": {},
   "outputs": [
    {
     "name": "stdout",
     "output_type": "stream",
     "text": [
      "True\n"
     ]
    }
   ],
   "source": [
    "x = 6\n",
    "y = 73\n",
    "print(x<y)"
   ]
  },
  {
   "cell_type": "markdown",
   "id": "91c43e23-4a93-471d-9f5b-f45f6d75b9a4",
   "metadata": {},
   "source": [
    "(e) Greater Then Equal to >="
   ]
  },
  {
   "cell_type": "code",
   "execution_count": 18,
   "id": "35c074de-9278-453c-a380-779ac60b49e9",
   "metadata": {},
   "outputs": [
    {
     "name": "stdout",
     "output_type": "stream",
     "text": [
      "True\n"
     ]
    }
   ],
   "source": [
    "x = 5\n",
    "y = 5\n",
    "print(x>=y)"
   ]
  },
  {
   "cell_type": "code",
   "execution_count": 19,
   "id": "c0610af0-a385-4a49-9601-f004c72a7eea",
   "metadata": {},
   "outputs": [
    {
     "name": "stdout",
     "output_type": "stream",
     "text": [
      "False\n"
     ]
    }
   ],
   "source": [
    "x = 5\n",
    "y = 95\n",
    "print(x>=y)"
   ]
  },
  {
   "cell_type": "markdown",
   "id": "93e1194a-3384-40db-967c-0990b0470ca9",
   "metadata": {},
   "source": [
    "(f) Less Then Equal to <="
   ]
  },
  {
   "cell_type": "code",
   "execution_count": 25,
   "id": "93c1e409-0268-43bb-b40e-f363e5856f3b",
   "metadata": {},
   "outputs": [
    {
     "name": "stdout",
     "output_type": "stream",
     "text": [
      "False\n"
     ]
    }
   ],
   "source": [
    "x = 54\n",
    "y = 5\n",
    "print(x<=y)"
   ]
  },
  {
   "cell_type": "code",
   "execution_count": 24,
   "id": "3f5fec79-d7c0-47c4-9abc-e6d0df8644d6",
   "metadata": {},
   "outputs": [
    {
     "name": "stdout",
     "output_type": "stream",
     "text": [
      "True\n"
     ]
    }
   ],
   "source": [
    "x = 5\n",
    "y = 95\n",
    "print(x<=y)"
   ]
  },
  {
   "cell_type": "markdown",
   "id": "2997e77a-5d8e-4355-b2fc-477caefd6299",
   "metadata": {},
   "source": [
    "(9) Logical Operator"
   ]
  },
  {
   "cell_type": "code",
   "execution_count": 26,
   "id": "6482953c-5eca-476b-ad77-2c7a05752af8",
   "metadata": {},
   "outputs": [
    {
     "name": "stdout",
     "output_type": "stream",
     "text": [
      "False\n"
     ]
    }
   ],
   "source": [
    "a = True \n",
    "b = False\n",
    "print(a and b)"
   ]
  },
  {
   "cell_type": "code",
   "execution_count": 27,
   "id": "0d7c184b-6dcb-486c-bf84-a5986c694930",
   "metadata": {},
   "outputs": [
    {
     "name": "stdout",
     "output_type": "stream",
     "text": [
      "True\n"
     ]
    }
   ],
   "source": [
    "a = True \n",
    "b = False\n",
    "print(a or b)"
   ]
  },
  {
   "cell_type": "code",
   "execution_count": 30,
   "id": "579625fd-98d9-4cc0-8dcf-b1126458ce06",
   "metadata": {},
   "outputs": [
    {
     "name": "stdout",
     "output_type": "stream",
     "text": [
      "False\n"
     ]
    }
   ],
   "source": [
    "a = True \n",
    "print(not a)"
   ]
  },
  {
   "cell_type": "code",
   "execution_count": 31,
   "id": "947bef5f-3c4b-4ead-a912-2f1af23e83e9",
   "metadata": {},
   "outputs": [
    {
     "name": "stdout",
     "output_type": "stream",
     "text": [
      "True\n"
     ]
    }
   ],
   "source": [
    "a = False \n",
    "print(not a)"
   ]
  },
  {
   "cell_type": "markdown",
   "id": "a11666b8-ad08-484f-8ea4-f711b3dae6fb",
   "metadata": {},
   "source": [
    "Rough Question "
   ]
  },
  {
   "cell_type": "code",
   "execution_count": 42,
   "id": "96750617-0248-4ce3-b7bf-0adc53a1e54c",
   "metadata": {},
   "outputs": [
    {
     "name": "stdout",
     "output_type": "stream",
     "text": [
      "Price of product 1250\n",
      "Price of product 16400\n",
      "Price of product 9316\n",
      "Total payable amount:  26966\n"
     ]
    }
   ],
   "source": [
    "product_1 = 5*250\n",
    "product_2 = 25*656\n",
    "product_3 = 34*274\n",
    "print(\"Price of product\", product_1 )\n",
    "print(\"Price of product\", product_2 )\n",
    "print(\"Price of product\", product_3 )\n",
    "print(\"Total payable amount: \", product_1 + product_2 + product_3)"
   ]
  },
  {
   "cell_type": "markdown",
   "id": "4d687a44-4cb7-4105-affd-6cb754716208",
   "metadata": {},
   "source": [
    "\n",
    "Q2  \n",
    "\n",
    "find simple intrest and compare SI and threshold\n",
    "\n",
    "r = 8%\n",
    "p = 1500000\n",
    "t = 3 year \n",
    "threshold = 120000"
   ]
  },
  {
   "cell_type": "code",
   "execution_count": 55,
   "id": "47ab7637-0bc2-4202-9aff-06a2f03f28b8",
   "metadata": {},
   "outputs": [
    {
     "name": "stdout",
     "output_type": "stream",
     "text": [
      "Total instrest 360000.0\n",
      "True\n",
      "The value of SI is Greater then threshold\n"
     ]
    }
   ],
   "source": [
    "r = 8\n",
    "p = 1500000\n",
    "t = 3 \n",
    "threshold = 120000\n",
    "\n",
    "SI = p*r*t/100\n",
    "print(\"Total instrest\" ,SI)\n",
    "com =SI>threshold\n",
    "print(com)\n",
    "print(\"The value of SI is Greater then threshold\")"
   ]
  },
  {
   "cell_type": "markdown",
   "id": "f44806a4-c063-473c-acd1-326730c6a255",
   "metadata": {},
   "source": [
    "Find area of circle \n",
    "radius = 12 "
   ]
  },
  {
   "cell_type": "code",
   "execution_count": 6,
   "id": "5de31306-a1c4-47ae-8e1c-ee6431e7978b",
   "metadata": {},
   "outputs": [
    {
     "name": "stdout",
     "output_type": "stream",
     "text": [
      "area of circle 452.38896\n"
     ]
    }
   ],
   "source": [
    "r = 12 \n",
    "pie = 3.14159\n",
    "p = pie\n",
    "print(\"area of circle\",p*r**2)"
   ]
  },
  {
   "cell_type": "code",
   "execution_count": null,
   "id": "4987b474-5918-4a08-8c3c-6432ea9f31c2",
   "metadata": {},
   "outputs": [],
   "source": []
  },
  {
   "cell_type": "code",
   "execution_count": null,
   "id": "6654406f-1a76-47ca-998c-63b5630ddc76",
   "metadata": {},
   "outputs": [],
   "source": []
  }
 ],
 "metadata": {
  "kernelspec": {
   "display_name": "Python 3 (ipykernel)",
   "language": "python",
   "name": "python3"
  },
  "language_info": {
   "codemirror_mode": {
    "name": "ipython",
    "version": 3
   },
   "file_extension": ".py",
   "mimetype": "text/x-python",
   "name": "python",
   "nbconvert_exporter": "python",
   "pygments_lexer": "ipython3",
   "version": "3.12.7"
  }
 },
 "nbformat": 4,
 "nbformat_minor": 5
}
