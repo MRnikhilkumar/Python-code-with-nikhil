{
 "cells": [
  {
   "cell_type": "markdown",
   "id": "8e3840e4-6499-40d4-824e-1f80d148b124",
   "metadata": {},
   "source": [
    "Built in Functions\n",
    "\n",
    "abs()\tReturns the absolute value of a number\n",
    "\n",
    "all()\tReturns True if all items in an iterable object are true\n",
    "\n",
    "any()\tReturns True if any item in an iterable object is true\n",
    "\n",
    "ascii()\tReturns a readable version of an object. Replaces none-ascii characters with escape character\n",
    "\n",
    "bin()\tReturns the binary version of a number\n",
    "\n",
    "bool()\tReturns the boolean value of the specified object\n",
    "\n",
    "bytearray()\tReturns an array of bytes\n",
    "\n",
    "bytes()\tReturns a bytes object\n",
    "\n",
    "callable()\tReturns True if the specified object is callable, otherwise False\n",
    "\n",
    "chr()\tReturns a character from the specified Unicode code.\n",
    "\n",
    "classmethod()\tConverts a method into a class method\n",
    "\n",
    "compile()\tReturns the specified source as an object, ready to be executed\n",
    "\n",
    "complex()\tReturns a complex number\n",
    "\n",
    "delattr()\tDeletes the specified attribute (property or method) from the specified object\n",
    "\n",
    "dict()\tReturns a dictionary (Array)\n",
    "\n",
    "dir()\tReturns a list of the specified object's properties and methods\n",
    "\n",
    "divmod()\tReturns the quotient and the remainder when argument1 is divided by argument2\n",
    "\n",
    "enumerate()\tTakes a collection (e.g. a tuple) and returns it as an enumerate object\n",
    "\n",
    "eval()\tEvaluates and executes an expression\n",
    "\n",
    "exec()\tExecutes the specified code (or object)\n",
    "\n",
    "filter()\tUse a filter function to exclude items in an iterable object\n",
    "\n",
    "float()\tReturns a floating point number\n",
    "\n",
    "format()\tFormats a specified value\n",
    "\n",
    "frozenset()\tReturns a frozenset object\n",
    "\n",
    "getattr()\tReturns the value of the specified attribute (property or method)\n",
    "\n",
    "globals()\tReturns the current global symbol table as a dictionary\n",
    "\n",
    "hasattr()\tReturns True if the specified object has the specified attribute (property/method)\n",
    "\n",
    "hash()\tReturns the hash value of a specified object\n",
    "\n",
    "help()\tExecutes the built-in help system\n",
    "\n",
    "hex()\tConverts a number into a hexadecimal value\n",
    "\n",
    "id()\tReturns the id of an object\n",
    "\n",
    "input()\tAllowing user input\n",
    "\n",
    "int()\tReturns an integer number\n",
    "\n",
    "isinstance()\tReturns True if a specified object is an instance of a specified object\n",
    "\n",
    "issubclass()\tReturns True if a specified class is a subclass of a specified object\n",
    "\n",
    "iter()\tReturns an iterator object\n",
    "\n",
    "len()\tReturns the length of an object\n",
    "\n",
    "list()\tReturns a list\n",
    "\n",
    "locals()\tReturns an updated dictionary of the current local symbol table\n",
    "\n",
    "map()\tReturns the specified iterator with the specified function applied to each item\n",
    "\n",
    "max()\tReturns the largest item in an iterable\n",
    "\n",
    "memoryview()\tReturns a memory view object\n",
    "\n",
    "min()\tReturns the smallest item in an iterable\n",
    "\n",
    "next()\tReturns the next item in an iterable\n",
    "\n",
    "object()\tReturns a new object\n",
    "\n",
    "oct()\tConverts a number into an octal\n",
    "\n",
    "open()\tOpens a file and returns a file object\n",
    "\n",
    "ord()\tConvert an integer representing the Unicode of the specified character\n",
    "\n",
    "pow()\tReturns the value of x to the power of y\n",
    "\n",
    "print()\tPrints to the standard output device\n",
    "\n",
    "property()\tGets, sets, deletes a property\n",
    "\n",
    "range()\tReturns a sequence of numbers, starting from 0 and increments by 1 (by default)\n",
    "\n",
    "repr()\tReturns a readable version of an object\n",
    "\n",
    "reversed()\tReturns a reversed iterator\n",
    "\n",
    "round()\tRounds a numbers\n",
    "\n",
    "set()\tReturns a new set object\n",
    "\n",
    "setattr()\tSets an attribute (property/method) of an object\n",
    "\n",
    "slice()\tReturns a slice object\n",
    "\n",
    "sorted()\tReturns a sorted list\n",
    "\n",
    "staticmethod()\tConverts a method into a static method\n",
    "\n",
    "str()\tReturns a string object\n",
    "\n",
    "sum()\tSums the items of an iterator\n",
    "\n",
    "super()\tReturns an object that represents the parent class\n",
    "\n",
    "tuple()\tReturns a tuple\n",
    "\n",
    "type()\tReturns the type of an object\n",
    "\n",
    "vars()\tReturns the dict property of an object\n",
    "\n",
    "zip()\tReturns an iterator, from two or more iterators\n"
   ]
  },
  {
   "cell_type": "code",
   "execution_count": 3,
   "id": "ba9f6af2-968d-4d08-9a09-f40edf7a9063",
   "metadata": {},
   "outputs": [
    {
     "name": "stdout",
     "output_type": "stream",
     "text": [
      "<class 'int'>\n"
     ]
    }
   ],
   "source": [
    "# float and int function\n",
    "a = 10\n",
    "print(type(a))"
   ]
  },
  {
   "cell_type": "code",
   "execution_count": 4,
   "id": "db0b048d-4a0e-4583-9880-9bc3205e36d6",
   "metadata": {},
   "outputs": [
    {
     "name": "stdout",
     "output_type": "stream",
     "text": [
      "<class 'float'>\n"
     ]
    }
   ],
   "source": [
    "a = 10.00\n",
    "print(type(a))"
   ]
  },
  {
   "cell_type": "code",
   "execution_count": 5,
   "id": "7b6ebf57-5ccb-4c28-b979-f561586f10b3",
   "metadata": {},
   "outputs": [
    {
     "name": "stdout",
     "output_type": "stream",
     "text": [
      "<class 'str'>\n"
     ]
    }
   ],
   "source": [
    "a = \"10.00\"\n",
    "print(type(a))"
   ]
  },
  {
   "cell_type": "code",
   "execution_count": 12,
   "id": "4e290b42-ef73-4659-89d5-24444485fa5b",
   "metadata": {
    "scrolled": true
   },
   "outputs": [
    {
     "name": "stdout",
     "output_type": "stream",
     "text": [
      "<class 'str'>\n",
      "10.0\n",
      "<class 'float'>\n"
     ]
    }
   ],
   "source": [
    "# convert str to float \n",
    "a = \"10.00\"\n",
    "print(type(a))\n",
    "b = float(a)\n",
    "print(b)\n",
    "print(type(b))"
   ]
  },
  {
   "cell_type": "code",
   "execution_count": 11,
   "id": "fcf358ca-647f-4db2-b912-4af999a4e4f7",
   "metadata": {},
   "outputs": [
    {
     "name": "stdout",
     "output_type": "stream",
     "text": [
      "<class 'float'>\n",
      "10\n",
      "<class 'int'>\n"
     ]
    }
   ],
   "source": [
    "# convert float to int \n",
    "a = 10.549848959855487987\n",
    "print(type(a))\n",
    "b = int(a)\n",
    "print(b)\n",
    "print(type(b))"
   ]
  },
  {
   "cell_type": "code",
   "execution_count": 15,
   "id": "75e9dd5f-d065-4241-80dc-cf03e9182a47",
   "metadata": {},
   "outputs": [
    {
     "name": "stdout",
     "output_type": "stream",
     "text": [
      "<class 'str'>\n",
      "10\n",
      "<class 'int'>\n"
     ]
    }
   ],
   "source": [
    "# convert str to int  \n",
    "a = \"10\"\n",
    "print(type(a))\n",
    "b = int(a)\n",
    "print(b)\n",
    "print(type(b))"
   ]
  },
  {
   "cell_type": "code",
   "execution_count": 21,
   "id": "babb49f0-1646-42fe-99e3-2cfd6fd4f473",
   "metadata": {},
   "outputs": [
    {
     "name": "stdout",
     "output_type": "stream",
     "text": [
      "<class 'int'>\n",
      "59\n",
      "<class 'str'>\n",
      "592\n"
     ]
    }
   ],
   "source": [
    "a = 59\n",
    "print(type(a))\n",
    "b =  str(a)\n",
    "print(b)\n",
    "print(type(b))\n",
    "c = \"2\"        #2 is a str and 59 also so concatenate and result 592\n",
    "print(b+c)"
   ]
  },
  {
   "cell_type": "code",
   "execution_count": 3,
   "id": "daa54cc6-9c90-4bba-a458-456f0b9add3c",
   "metadata": {},
   "outputs": [
    {
     "name": "stdout",
     "output_type": "stream",
     "text": [
      "(2+8j)\n"
     ]
    }
   ],
   "source": [
    "# complex number \n",
    "p = complex(2,8)\n",
    "print(p)"
   ]
  },
  {
   "cell_type": "code",
   "execution_count": 5,
   "id": "71ca7f7a-6ad9-4b43-9009-917a9b26a4a4",
   "metadata": {},
   "outputs": [
    {
     "name": "stdout",
     "output_type": "stream",
     "text": [
      "18\n"
     ]
    }
   ],
   "source": [
    "# abs function \n",
    "a = (-18)\n",
    "print(abs(a))"
   ]
  },
  {
   "cell_type": "code",
   "execution_count": 6,
   "id": "dd0cc36b-db90-414b-b412-c1bfe9a09607",
   "metadata": {},
   "outputs": [
    {
     "name": "stdout",
     "output_type": "stream",
     "text": [
      "1.18545485488\n"
     ]
    }
   ],
   "source": [
    "# abs function \n",
    "a = (1.18545485488)\n",
    "print(abs(a))"
   ]
  },
  {
   "cell_type": "code",
   "execution_count": 10,
   "id": "4b8d56fe-b8f7-4a17-829c-2f770a998195",
   "metadata": {},
   "outputs": [
    {
     "name": "stdout",
     "output_type": "stream",
     "text": [
      "21.93171219946131\n"
     ]
    }
   ],
   "source": [
    "# abs function \n",
    "a = (15+16j)\n",
    "print(abs(a))"
   ]
  },
  {
   "cell_type": "code",
   "execution_count": 11,
   "id": "7323f3f4-c1bd-4e28-94da-d190cda808c9",
   "metadata": {},
   "outputs": [
    {
     "name": "stdout",
     "output_type": "stream",
     "text": [
      "57\n"
     ]
    }
   ],
   "source": [
    "# lan function \n",
    "a = \"Life is what happens when you’re busy making other plans.\"\n",
    "print (len(a))"
   ]
  },
  {
   "cell_type": "code",
   "execution_count": 13,
   "id": "f1b17e4a-76e6-4602-991a-124f8004494d",
   "metadata": {},
   "outputs": [
    {
     "name": "stdout",
     "output_type": "stream",
     "text": [
      "18\n"
     ]
    }
   ],
   "source": [
    "# lan function \n",
    "a = \"nikhil Kumar Singh\"\n",
    "print (len(a))"
   ]
  },
  {
   "cell_type": "code",
   "execution_count": 17,
   "id": "2932900c-a0b5-4aa5-bb3d-52df156bd368",
   "metadata": {},
   "outputs": [
    {
     "name": "stdout",
     "output_type": "stream",
     "text": [
      "11\n"
     ]
    }
   ],
   "source": [
    "# lan function \n",
    "a = [12,14,15,16,17,185,54,85,5,65,2]\n",
    "print (len(a))"
   ]
  }
 ],
 "metadata": {
  "kernelspec": {
   "display_name": "Python 3 (ipykernel)",
   "language": "python",
   "name": "python3"
  },
  "language_info": {
   "codemirror_mode": {
    "name": "ipython",
    "version": 3
   },
   "file_extension": ".py",
   "mimetype": "text/x-python",
   "name": "python",
   "nbconvert_exporter": "python",
   "pygments_lexer": "ipython3",
   "version": "3.12.7"
  }
 },
 "nbformat": 4,
 "nbformat_minor": 5
}
