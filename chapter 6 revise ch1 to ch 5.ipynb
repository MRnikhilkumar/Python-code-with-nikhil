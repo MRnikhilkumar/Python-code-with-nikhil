{
 "cells": [
  {
   "cell_type": "markdown",
   "id": "0e826c00-bf67-487e-bd8d-d1a01d095031",
   "metadata": {},
   "source": [
    "Practice Question "
   ]
  },
  {
   "cell_type": "raw",
   "id": "120c2d6d-2182-4ad6-8d85-0f37b4c44974",
   "metadata": {},
   "source": [
    "#Lecture 1 to 5\n",
    "\n",
    ". Fundamental of Data science & Python \n",
    ". Variable & Data type\n",
    ". Operators in Python \n",
    ". Built in Function "
   ]
  },
  {
   "cell_type": "markdown",
   "id": "6a0b2b84-8ed7-4bbe-87c8-2506c4b7511d",
   "metadata": {},
   "source": [
    "Question 1"
   ]
  },
  {
   "cell_type": "code",
   "execution_count": null,
   "id": "86deda49-6261-4170-8913-c6129ca8afe9",
   "metadata": {},
   "outputs": [],
   "source": [
    "I am developing a program for a math competition where participants need to solve mathematical\n",
    "expression and provide the result.\n",
    "Here's how you can approach it:\n",
    "\n",
    "1) Take input from the participant to enter a mathematical expression.\n",
    "2) Evaluate the expression enterd by the perticipant and obtain the result.\n",
    "3) Display the result to the participant."
   ]
  },
  {
   "cell_type": "code",
   "execution_count": 1,
   "id": "fcbde1bf-5856-499c-a1ec-7dd6d9d21b3f",
   "metadata": {},
   "outputs": [
    {
     "name": "stdin",
     "output_type": "stream",
     "text": [
      "Enter the Mathematical Expression 481*2456+49529*5256+28274\n"
     ]
    },
    {
     "name": "stdout",
     "output_type": "stream",
     "text": [
      "the result of expression is 261534034\n",
      "thanks for perticipating in the maths competition\n"
     ]
    }
   ],
   "source": [
    "expression = input(\"Enter the Mathematical Expression\")\n",
    "result = eval(expression)\n",
    "print(\"the result of expression is\",result)\n",
    "print(\"thanks for perticipating in the maths competition\")\n"
   ]
  },
  {
   "cell_type": "code",
   "execution_count": null,
   "id": "5b887671-ba87-4706-bfdb-04ba70f315e4",
   "metadata": {},
   "outputs": [],
   "source": []
  },
  {
   "cell_type": "code",
   "execution_count": null,
   "id": "52fd0425-b67b-4b54-b132-a55a865a4c99",
   "metadata": {},
   "outputs": [],
   "source": []
  },
  {
   "cell_type": "markdown",
   "id": "b522cdb4-7115-48ce-886a-35b8e607d3bd",
   "metadata": {},
   "source": [
    "Question 2"
   ]
  },
  {
   "cell_type": "raw",
   "id": "dd080d0a-c87f-4106-b59d-af9d1cf4791f",
   "metadata": {},
   "source": [
    "Suppose you're analyzing a dataset containing information about house prices in a city. Each record includes details such as the house size (in square feet), number of bedrooms, and price. You want to perform various calculations and manipulations on this dataset using Python. Answer the following questions:\n",
    "1) Ask the user 1 & 2 to enter house size, number of rooms they want andCheck the data type user has entered\n",
    "2) Calculate the price of house, if per sq feet is Rs 5000.\n",
    "3) Threshold price is 75 lakh Rs, which user\n",
    "is paying the price above threshold price."
   ]
  },
  {
   "cell_type": "code",
   "execution_count": 8,
   "id": "53e9f83e-95ad-4a08-a13d-4dc924f95a05",
   "metadata": {},
   "outputs": [
    {
     "name": "stdin",
     "output_type": "stream",
     "text": [
      "user 1 enter the size of the house 3000\n",
      "user 1 enter the number of berdroms 5\n",
      "user 1 enter the budget 20000000\n",
      "user 2 enter the size of the house 2\n",
      "user 2 enter the number of berdroms 2\n",
      "user 2 enter the budget 50000000\n"
     ]
    },
    {
     "name": "stdout",
     "output_type": "stream",
     "text": [
      "the price of the house for user 1 is 15000000.0\n",
      "the price of the house for user 2 is 10000.0\n",
      "user 1 is paying above threshold True\n",
      "user 2 is paying above threshold False\n"
     ]
    }
   ],
   "source": [
    "house_size_1 = float(input(\"user 1 enter the size of the house\"))\n",
    "bedrooms_1 = int(input(\"user 1 enter the number of berdroms\"))\n",
    "price_1 = float(input(\"user 1 enter the budget\"))\n",
    "\n",
    "house_size_2 = float(input(\"user 2 enter the size of the house\")) \n",
    "bedrooms_2 = int(input(\"user 2 enter the number of berdroms\"))\n",
    "price_2 = float(input(\"user 2 enter the budget\"))\n",
    "\n",
    "house_price_1 = house_size_1 * 5000\n",
    "print(\"the price of the house for user 1 is\", house_price_1)\n",
    "\n",
    "house_price_2 = house_size_2* 5000\n",
    "print(\"the price of the house for user 2 is\", house_price_2)\n",
    "\n",
    "threshold_price = 7500000\n",
    "user1_threshold = house_price_1 >= threshold_price\n",
    "user2_threshold = house_price_2 >= threshold_price\n",
    "\n",
    "\n",
    "print (f\"user 1 is paying above threshold\", user1_threshold)\n",
    "print (f\"user 2 is paying above threshold\", user2_threshold)"
   ]
  },
  {
   "cell_type": "code",
   "execution_count": null,
   "id": "13bbf893-3fd7-4d38-b598-535ed05ef089",
   "metadata": {},
   "outputs": [],
   "source": []
  },
  {
   "cell_type": "markdown",
   "id": "e464fbe7-c42c-420e-b957-74e483013594",
   "metadata": {},
   "source": [
    "Question 3"
   ]
  },
  {
   "cell_type": "code",
   "execution_count": null,
   "id": "6eae67ab-9ebc-455a-b1c7-f47f5b44af62",
   "metadata": {},
   "outputs": [],
   "source": [
    "You are working on a project to analyze stock market data. Create variables to store the stock symbol,\n",
    "current price, and percentage change in price. Then, calculate the new price after a 10% increase \n",
    "using arithmetic operators. Finally, prompt the user to enter their budget using the input() function, \n",
    "convert it to a float using the float() function, and compare it with the new price"
   ]
  },
  {
   "cell_type": "code",
   "execution_count": 12,
   "id": "5d39b108-e832-4bfd-8779-03b5249c63b0",
   "metadata": {},
   "outputs": [
    {
     "name": "stdout",
     "output_type": "stream",
     "text": [
      "the new price of the stock is 110.00000000000001\n"
     ]
    },
    {
     "name": "stdin",
     "output_type": "stream",
     "text": [
      "enter your budget 85\n"
     ]
    },
    {
     "name": "stdout",
     "output_type": "stream",
     "text": [
      "user budget is greater than new price False\n"
     ]
    }
   ],
   "source": [
    "stock_symbol = \"xyz\"\n",
    "current_price = 100\n",
    "percent_change = 10\n",
    "new_price = current_price* (1+percent_change/100)\n",
    "print(\"the new price of the stock is\", new_price)\n",
    "user_budget= int(input(\"enter your budget\"))\n",
    "a = user_budget >= new_price\n",
    "print(\"user budget is greater than new price\", a)"
   ]
  },
  {
   "cell_type": "code",
   "execution_count": null,
   "id": "c5e21db8-7dd3-47b1-ab6d-9f4f71320ce5",
   "metadata": {},
   "outputs": [],
   "source": []
  },
  {
   "cell_type": "code",
   "execution_count": null,
   "id": "8b61e957-b9c6-4024-a8e7-026e5e8d3836",
   "metadata": {},
   "outputs": [],
   "source": []
  },
  {
   "cell_type": "markdown",
   "id": "2b969022-5524-42db-97dc-b3d94692335a",
   "metadata": {},
   "source": [
    "Question 4"
   ]
  },
  {
   "cell_type": "code",
   "execution_count": null,
   "id": "952c2067-990e-4960-9f0c-1f530f0f349d",
   "metadata": {},
   "outputs": [],
   "source": [
    "Create variables to store the current temperature,the minimum temperature recorded, and the maximum \n",
    "temperature recorded. Determine whether the current temperature is within\n",
    "the range of the minimum and maximum temperatures recorded using logical operators"
   ]
  },
  {
   "cell_type": "code",
   "execution_count": 14,
   "id": "f3e0a4a6-0d68-46db-8385-cfea832d9f19",
   "metadata": {},
   "outputs": [
    {
     "name": "stdout",
     "output_type": "stream",
     "text": [
      "Current temperature: 38\n",
      "Minimum recorded temperature: 25\n",
      "Maximum recorded temperature: 49\n",
      "Is current temperature within range? True\n"
     ]
    }
   ],
   "source": [
    "current_temperature = 38\n",
    "min_temperature = 25\n",
    "max_temperature = 49\n",
    "\n",
    "is_within_range = current_temperature >= min_temperature and current_temperature <= max_temperature\n",
    "\n",
    "print(\"Current temperature:\", current_temperature)\n",
    "print(\"Minimum recorded temperature:\", min_temperature)\n",
    "print(\"Maximum recorded temperature:\", max_temperature)\n",
    "print(\"Is current temperature within range?\", is_within_range)\n"
   ]
  },
  {
   "cell_type": "code",
   "execution_count": null,
   "id": "28ec8d3b-4065-46e5-a3d1-596a87773f8c",
   "metadata": {},
   "outputs": [],
   "source": []
  }
 ],
 "metadata": {
  "kernelspec": {
   "display_name": "Python 3 (ipykernel)",
   "language": "python",
   "name": "python3"
  },
  "language_info": {
   "codemirror_mode": {
    "name": "ipython",
    "version": 3
   },
   "file_extension": ".py",
   "mimetype": "text/x-python",
   "name": "python",
   "nbconvert_exporter": "python",
   "pygments_lexer": "ipython3",
   "version": "3.12.7"
  }
 },
 "nbformat": 4,
 "nbformat_minor": 5
}
