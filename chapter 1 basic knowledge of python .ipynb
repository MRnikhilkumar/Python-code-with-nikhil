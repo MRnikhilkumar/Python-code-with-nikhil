{
 "cells": [
  {
   "cell_type": "markdown",
   "id": "0b1c9bd3-34a6-4123-85df-8029559a4af6",
   "metadata": {},
   "source": [
    "Basic of python"
   ]
  },
  {
   "cell_type": "raw",
   "id": "dfdbaa60-1080-4c2c-bb6d-53cdfe4b6d8d",
   "metadata": {},
   "source": [
    "Python is a high-level, interpreted programming language.\n",
    "Created by \"Guido van Rossum\" in the late 1980s.\n",
    "First released in **1991.\n",
    "Named after the comedy group \"Monty Python\" , not the snake.\n",
    "Python is known for its simple syntax and readability.\n",
    "It is widely used in:\n",
    "    Web development\n",
    "    Data science & machine learning\n",
    "    Automation & scripting\n",
    "    Game development\n",
    "    Embedded systems\n",
    "Popular versions:\n",
    "Python 2.x (older, no longer supported)\n",
    "Python 3.x (current standard) "
   ]
  },
  {
   "cell_type": "code",
   "execution_count": 1,
   "id": "aa91d979-6df7-4cfa-9b94-1b4f5b3830c6",
   "metadata": {},
   "outputs": [
    {
     "name": "stdout",
     "output_type": "stream",
     "text": [
      "Hello world\n"
     ]
    }
   ],
   "source": [
    "print(\"Hello world\")\n"
   ]
  },
  {
   "cell_type": "code",
   "execution_count": 2,
   "id": "5be4e74e-5d45-49da-8384-f640924d0162",
   "metadata": {},
   "outputs": [
    {
     "name": "stdout",
     "output_type": "stream",
     "text": [
      "nikhil\n"
     ]
    }
   ],
   "source": [
    "print(\"nikhil\")"
   ]
  },
  {
   "cell_type": "code",
   "execution_count": 3,
   "id": "0c417d22-8b52-41de-ab44-2b42b68b3645",
   "metadata": {},
   "outputs": [
    {
     "name": "stdout",
     "output_type": "stream",
     "text": [
      "India\n"
     ]
    }
   ],
   "source": [
    "print(\"India\")"
   ]
  },
  {
   "cell_type": "code",
   "execution_count": null,
   "id": "9524e34d-0035-4e98-8355-92e4b6baec8f",
   "metadata": {},
   "outputs": [],
   "source": []
  }
 ],
 "metadata": {
  "kernelspec": {
   "display_name": "Python 3 (ipykernel)",
   "language": "python",
   "name": "python3"
  },
  "language_info": {
   "codemirror_mode": {
    "name": "ipython",
    "version": 3
   },
   "file_extension": ".py",
   "mimetype": "text/x-python",
   "name": "python",
   "nbconvert_exporter": "python",
   "pygments_lexer": "ipython3",
   "version": "3.12.7"
  }
 },
 "nbformat": 4,
 "nbformat_minor": 5
}
