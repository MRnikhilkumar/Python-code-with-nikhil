{
 "cells": [
  {
   "cell_type": "markdown",
   "id": "e456c8a7-05a5-4fd8-ac2f-c1c308d2a9b7",
   "metadata": {},
   "source": [
    "Control Flow Statements"
   ]
  },
  {
   "cell_type": "raw",
   "id": "80f337cb-a69d-4711-abfc-43e67458ee5a",
   "metadata": {},
   "source": [
    "(1) if statement"
   ]
  },
  {
   "cell_type": "code",
   "execution_count": 12,
   "id": "3750cf61-70e8-4e1c-84d6-ab4a2d6f13d2",
   "metadata": {},
   "outputs": [
    {
     "name": "stdout",
     "output_type": "stream",
     "text": [
      "condition is false\n"
     ]
    }
   ],
   "source": [
    "i = 5\n",
    "\n",
    "if i>10:\n",
    "    print(\"5 is greater then 10\")\n",
    "    \n",
    "print(\"condition is false\")"
   ]
  },
  {
   "cell_type": "markdown",
   "id": "8848ce47-7d78-44de-96b9-ca3dfead59b9",
   "metadata": {},
   "source": [
    "i = 30\n",
    "\n",
    "if i<10:\n",
    "    print(\"30 is greater then 10\")\n",
    "    \n",
    "print(\"condition is false\")"
   ]
  },
  {
   "cell_type": "code",
   "execution_count": null,
   "id": "eb222246-f290-4e64-95f4-f39666c544af",
   "metadata": {},
   "outputs": [],
   "source": [
    "Develop a temprature converter in python for a cold storage that converts tempratures\n",
    "between celsius and fahrenheit scales. \n",
    "The program should take a temprature value and a unit (C or F) as input. \n",
    "If the temprature is less than 15 degrees celsius, inform the user that the temprature is not convenient. \n",
    "If the temprature is between 24 to 28 degrees celsius inform the user that the temprature is convenient"
   ]
  },
  {
   "cell_type": "code",
   "execution_count": 8,
   "id": "39b931d6-4641-41fe-9a69-6fdcf88bf4bf",
   "metadata": {},
   "outputs": [
    {
     "name": "stdin",
     "output_type": "stream",
     "text": [
      "Enter the temprature 26\n"
     ]
    },
    {
     "name": "stdout",
     "output_type": "stream",
     "text": [
      "temprature is convinient\n"
     ]
    }
   ],
   "source": [
    "temp = float(input(\"Enter the temprature\"))\n",
    "\n",
    "if temp<15:\n",
    "    print(\"temprature is not convinient\")\n",
    "\n",
    "if 24<temp<28:\n",
    "    print(\"temprature is convinient\")"
   ]
  },
  {
   "cell_type": "raw",
   "id": "e7276a71-9bfa-40fd-8b95-91c5cc94d4ae",
   "metadata": {},
   "source": []
  },
  {
   "cell_type": "raw",
   "id": "6a270b46-098d-42ff-9c82-3829142e090c",
   "metadata": {},
   "source": [
    "(2) if else statement"
   ]
  },
  {
   "cell_type": "raw",
   "id": "35da55f2-c216-457a-a8d3-236156a26418",
   "metadata": {},
   "source": []
  },
  {
   "cell_type": "code",
   "execution_count": 15,
   "id": "e4b3df2e-305f-46a2-8bb9-206d7176bc79",
   "metadata": {},
   "outputs": [
    {
     "name": "stdin",
     "output_type": "stream",
     "text": [
      "enter the age 15\n"
     ]
    },
    {
     "name": "stdout",
     "output_type": "stream",
     "text": [
      "You are not elegible\n"
     ]
    }
   ],
   "source": [
    "# \n",
    "age = int(input(\"enter the age\"))\n",
    "\n",
    "if age>18:\n",
    "    print(\"You are elegible for vote\")\n",
    "else:\n",
    "    print(\"You are not elegible\")\n",
    "        "
   ]
  },
  {
   "cell_type": "code",
   "execution_count": null,
   "id": "4245a97d-6f4e-4ec1-b692-f1c9b5a73635",
   "metadata": {},
   "outputs": [],
   "source": [
    "You are tasked eith developing a python program to manage empee salaries for a company.\n",
    "Your program should calculate the net salary of each employee based on their base salary,deduction,\n",
    "and bounses Additionally, employees who have been with the company for morethen 5 years are\n",
    "elegible for an additional loyalty bonous, 8% of salary. Dedutions of tax will be 12%\n",
    "                                                                                                                                                                                                                                                                                                \n",
    "Write a python script that prompts the user to input the following  information for each employee:\n",
    "base salary\n",
    "years of service\n",
    "\n",
    "After calculating tha net salary. \n",
    "the program should print a sunnary fr each emoloyee  including their base, deduction,bonuses, loyalty \n",
    "bonous (if applicable ), and et salary.                                                                  "
   ]
  },
  {
   "cell_type": "code",
   "execution_count": 10,
   "id": "ddae5827-9247-4205-952d-b326354c020d",
   "metadata": {},
   "outputs": [
    {
     "name": "stdin",
     "output_type": "stream",
     "text": [
      "Enter base salary 50000\n",
      "Enter year of salary 12\n"
     ]
    },
    {
     "name": "stdout",
     "output_type": "stream",
     "text": [
      "you will get total net salary 48000.0\n"
     ]
    }
   ],
   "source": [
    "base_salary = float(input(\"Enter base salary\"))\n",
    "year_of_service  = int(input(\"Enter year of salary\"))\n",
    "\n",
    "if year_of_service > 5:\n",
    "    total_salary = base_salary + (0.08*base_salary) - (0.12*base_salary)\n",
    "    print(\"you will get total net salary\" , total_salary)\n",
    "\n",
    "else:\n",
    "    total_salary = base_salary - (0.12*base_salary)\n",
    "    print(\"you will get net salary\" , total_salary)\n"
   ]
  },
  {
   "cell_type": "code",
   "execution_count": null,
   "id": "4ee40743-d2de-4e96-b7a3-bc5088998f65",
   "metadata": {},
   "outputs": [],
   "source": []
  },
  {
   "cell_type": "raw",
   "id": "03c6f13a-6a3f-4541-b918-f09ec089f41c",
   "metadata": {},
   "source": [
    "(3) if elif else"
   ]
  },
  {
   "cell_type": "code",
   "execution_count": null,
   "id": "50b8c84f-66a9-4872-ba09-46c224cc3c29",
   "metadata": {},
   "outputs": [],
   "source": []
  },
  {
   "cell_type": "code",
   "execution_count": null,
   "id": "624922f1-641a-4360-8bc5-5d95c9d9ba17",
   "metadata": {},
   "outputs": [],
   "source": [
    "Write a python program that prompts the user to input a city and displays the famous monument of that city. \n",
    "\n",
    "Mumbai: Gateway of india \n",
    "Kolkata: victoria memorial \n",
    "Chennai: Marina beach \n",
    "Bangalore: Botanical Garden \n",
    "Pune: Shaniwar wada\n",
    "Delhi: india gate \n",
    "Jaipur: hawa mahel\n",
    "\n",
    "write a python script to implement this functionality. "
   ]
  },
  {
   "cell_type": "code",
   "execution_count": 20,
   "id": "c732ba8a-491c-4aaf-a99b-28eae9f60e97",
   "metadata": {},
   "outputs": [
    {
     "name": "stdin",
     "output_type": "stream",
     "text": [
      "Enter the city Delhi\n"
     ]
    },
    {
     "name": "stdout",
     "output_type": "stream",
     "text": [
      "The famous monument is India gate \n"
     ]
    }
   ],
   "source": [
    "a = input(\"Enter the city\")\n",
    "\n",
    "if a == \"Mumbai\":\n",
    "    print(\"The famous monument is Gateway of india\" )\n",
    "elif a == \"Kolkata\":\n",
    "     print(\"The famous monument is victoria memorial\" )\n",
    "elif a == \"Chennai\":\n",
    "     print(\"The famous monument is  Marina beach  \")\n",
    "elif a == \"Bangalore\":\n",
    "     print(\"The famous monument is  Botanical Garden\" )\n",
    "elif a == \"Pune\":\n",
    "     print(\"The famous monument is  Shaniwar wada\" )\n",
    "elif a == \"Delhi\":\n",
    "     print(\"The famous monument is India gate \" )\n",
    "elif a == \"Jaipur\":\n",
    "     print(\"The famous monument is  Hawa mahel\" )\n",
    "else:\n",
    "    print(\"NO Recode found\")"
   ]
  },
  {
   "cell_type": "code",
   "execution_count": null,
   "id": "537a31df-75f5-43ca-9f6d-dbc0b31dcdeb",
   "metadata": {},
   "outputs": [],
   "source": []
  }
 ],
 "metadata": {
  "kernelspec": {
   "display_name": "Python 3 (ipykernel)",
   "language": "python",
   "name": "python3"
  },
  "language_info": {
   "codemirror_mode": {
    "name": "ipython",
    "version": 3
   },
   "file_extension": ".py",
   "mimetype": "text/x-python",
   "name": "python",
   "nbconvert_exporter": "python",
   "pygments_lexer": "ipython3",
   "version": "3.12.7"
  }
 },
 "nbformat": 4,
 "nbformat_minor": 5
}
