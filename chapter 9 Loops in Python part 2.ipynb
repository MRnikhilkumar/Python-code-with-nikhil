{
 "cells": [
  {
   "cell_type": "markdown",
   "id": "3a131ef4-1cc2-4b7f-9b18-e9bfc0b8bcf2",
   "metadata": {},
   "source": [
    "\n",
    "For loop\n"
   ]
  },
  {
   "cell_type": "raw",
   "id": "ab5bce5f-cb9c-4582-9e70-adcabd635258",
   "metadata": {},
   "source": [
    "In Python, a for loop is used to iterate over a sequence (like a list, tuple, string, dictionary, or range) and execute a block of code for each item in the sequence. "
   ]
  },
  {
   "cell_type": "code",
   "execution_count": null,
   "id": "19aed2a9-5d7a-4636-a183-1f054b136fad",
   "metadata": {},
   "outputs": [],
   "source": []
  },
  {
   "cell_type": "code",
   "execution_count": 4,
   "id": "777d0fe3-e4ca-4656-8d7a-e55084c8927a",
   "metadata": {},
   "outputs": [
    {
     "name": "stdout",
     "output_type": "stream",
     "text": [
      "1\n",
      "2\n",
      "3\n",
      "4\n",
      "5\n"
     ]
    }
   ],
   "source": [
    "num = [1,2,3,4,5]\n",
    "for i in num:\n",
    "    print(i)\n"
   ]
  },
  {
   "cell_type": "code",
   "execution_count": 7,
   "id": "76b2ff22-fee7-4378-afca-d0db69b09793",
   "metadata": {},
   "outputs": [
    {
     "name": "stdout",
     "output_type": "stream",
     "text": [
      "s\n",
      "t\n",
      "u\n",
      "d\n",
      "e\n",
      "n\n",
      "t\n"
     ]
    }
   ],
   "source": [
    "a = \"student\"\n",
    "for i in a:\n",
    " print(i)"
   ]
  },
  {
   "cell_type": "code",
   "execution_count": 9,
   "id": "2f00a88d-192c-4bbb-85f8-5329d5ea68db",
   "metadata": {},
   "outputs": [
    {
     "name": "stdout",
     "output_type": "stream",
     "text": [
      "0\n",
      "1\n",
      "2\n",
      "3\n",
      "4\n",
      "5\n",
      "6\n",
      "7\n",
      "8\n",
      "9\n",
      "10\n"
     ]
    }
   ],
   "source": [
    "for i in range(11):\n",
    "    print(i)"
   ]
  },
  {
   "cell_type": "raw",
   "id": "552f3cef-2bc4-4921-8e47-074e54be92a8",
   "metadata": {},
   "source": [
    "for and if condition "
   ]
  },
  {
   "cell_type": "code",
   "execution_count": null,
   "id": "97f2ce04-357b-48b1-9523-cd242cbbac0c",
   "metadata": {},
   "outputs": [],
   "source": []
  },
  {
   "cell_type": "code",
   "execution_count": 13,
   "id": "155b283e-f172-408b-93df-2fe13459e506",
   "metadata": {},
   "outputs": [
    {
     "name": "stdout",
     "output_type": "stream",
     "text": [
      "The number is even 0\n",
      "The number is odd 1\n",
      "The number is even 2\n",
      "The number is odd 3\n",
      "The number is even 4\n",
      "The number is odd 5\n",
      "The number is even 6\n",
      "The number is odd 7\n",
      "The number is even 8\n",
      "The number is odd 9\n",
      "The number is even 10\n",
      "The number is odd 11\n",
      "The number is even 12\n",
      "The number is odd 13\n",
      "The number is even 14\n",
      "The number is odd 15\n",
      "The number is even 16\n",
      "The number is odd 17\n",
      "The number is even 18\n",
      "The number is odd 19\n",
      "The number is even 20\n",
      "The number is odd 21\n",
      "The number is even 22\n",
      "The number is odd 23\n",
      "The number is even 24\n",
      "The number is odd 25\n"
     ]
    }
   ],
   "source": [
    "for i in range(0,26):\n",
    "    if i%2 == 0:\n",
    "        print(\"The number is even\",i)\n",
    "    else:\n",
    "        print(\"The number is odd\",i)           "
   ]
  },
  {
   "cell_type": "code",
   "execution_count": null,
   "id": "614b410d-7412-4e61-9a26-59bb33c5df3e",
   "metadata": {},
   "outputs": [],
   "source": []
  },
  {
   "cell_type": "raw",
   "id": "db67fe61-8e5e-4ffd-90ad-416a141d58df",
   "metadata": {},
   "source": [
    "Table "
   ]
  },
  {
   "cell_type": "code",
   "execution_count": 4,
   "id": "a265cf73-ef57-48e2-be4d-4e09cb101677",
   "metadata": {},
   "outputs": [
    {
     "name": "stdout",
     "output_type": "stream",
     "text": [
      "Enter a number to generate a table 78\n"
     ]
    },
    {
     "name": "stdout",
     "output_type": "stream",
     "text": [
      "The multiplication table of 78\n",
      "78 X 1 = 78\n",
      "78 X 2 = 156\n",
      "78 X 3 = 234\n",
      "78 X 4 = 312\n",
      "78 X 5 = 390\n",
      "78 X 6 = 468\n",
      "78 X 7 = 546\n",
      "78 X 8 = 624\n",
      "78 X 9 = 702\n",
      "78 X 10 = 780\n"
     ]
    }
   ],
   "source": [
    "number = int(input(\"Enter a number to generate a table\")) \n",
    "print(\"The multiplication table of\",number)\n",
    "\n",
    "for i in range(1,11):\n",
    "    print(f\"{number} X {i} = {number*i}\")"
   ]
  },
  {
   "cell_type": "raw",
   "id": "722790a0-b23b-49b9-b97c-90a7767993ec",
   "metadata": {},
   "source": [
    "You are tasked with creating a program to assist shoppers in calculating their total bill at a grocery store. \n",
    "The store offers discounts based on the total purchase amount.\n",
    "Your task is to implement a python program that takes the price of each item purchased and calculates the totel bill, including any applicable discounts.\n",
    "\n",
    "The store offers the following discount rates based on the total purchase amount:\n",
    "\n",
    "If the totel purchase amount is $100 or more, the customer receives a 10% discount.\n",
    "\n",
    "If the totel purchase amount is $50 and $99.99, the customer receives a 5% discount.\n",
    "\n",
    "Write a python program to prompt the user to enter the prices of the items they purchased. \n",
    "use a for loop to iterate throught the prices entered and calculqte the subtotal.\n",
    "Apply the appropriate discount based on the total purchase amount using if-else statements.\n",
    "Finally print out the subtotal discount amount \n",
    "(ifany), and the total bill after applying yhe discount"
   ]
  },
  {
   "cell_type": "code",
   "execution_count": 23,
   "id": "300e6815-fdf7-4e30-8ac7-13766924ce44",
   "metadata": {},
   "outputs": [
    {
     "name": "stdout",
     "output_type": "stream",
     "text": [
      "Enter the user item purchase 3\n",
      "Enter the price of the item 100\n",
      "Enter the price of the item 25\n",
      "Enter the price of the item 52\n"
     ]
    },
    {
     "name": "stdout",
     "output_type": "stream",
     "text": [
      "subtotal 159.3\n"
     ]
    }
   ],
   "source": [
    "num_item = int(input(\"Enter the user item purchase\"))      \n",
    "total_price = 0\n",
    "\n",
    "for i in range(num_item):\n",
    "    price = float(input(\"Enter the price of the item\"))\n",
    "    total_price = total_price + price\n",
    "    i = i+1\n",
    "\n",
    "if total_price >=100:\n",
    "    discount = 0.1*total_price\n",
    "elif 50<total+price:\n",
    "    discount = 0.05*total_price\n",
    "else:\n",
    "    discount = 0\n",
    "total_bill = total_price - discount\n",
    "print(\"subtotal\",total_bill)"
   ]
  },
  {
   "cell_type": "code",
   "execution_count": null,
   "id": "26b93b34-d29c-49f3-86a4-d6334cf064ce",
   "metadata": {},
   "outputs": [],
   "source": []
  },
  {
   "cell_type": "raw",
   "id": "255466a6-d98a-4f73-92e1-4b707f6c0773",
   "metadata": {},
   "source": [
    "break statement"
   ]
  },
  {
   "cell_type": "code",
   "execution_count": 26,
   "id": "8c055298-94ca-4873-b3e2-b77c9d805eaa",
   "metadata": {},
   "outputs": [
    {
     "name": "stdout",
     "output_type": "stream",
     "text": [
      "0\n",
      "1\n",
      "2\n",
      "3\n",
      "4\n",
      "5\n",
      "6\n"
     ]
    }
   ],
   "source": [
    "for i in range(11):\n",
    "    if i == 7:\n",
    "        break\n",
    "    print(i)"
   ]
  },
  {
   "cell_type": "code",
   "execution_count": null,
   "id": "9e3636c2-17a2-4fd9-b6ff-e426b0be05c3",
   "metadata": {},
   "outputs": [],
   "source": []
  },
  {
   "cell_type": "code",
   "execution_count": 32,
   "id": "a5ae6c38-644b-468d-90ab-efe24eab2689",
   "metadata": {},
   "outputs": [
    {
     "name": "stdout",
     "output_type": "stream",
     "text": [
      "0\n",
      "1\n",
      "2\n",
      "3\n",
      "4\n",
      "5\n",
      "6\n",
      "8\n",
      "9\n",
      "10\n",
      "Hurry\n"
     ]
    }
   ],
   "source": [
    "for i in range(11):\n",
    "    if i == 7:\n",
    "        continue\n",
    "    print(i)\n",
    "print(\"Hurry\")\n",
    "    "
   ]
  },
  {
   "cell_type": "code",
   "execution_count": null,
   "id": "f5b2013f-9e33-456c-bb18-af3817a0e5f8",
   "metadata": {},
   "outputs": [],
   "source": []
  }
 ],
 "metadata": {
  "kernelspec": {
   "display_name": "Python 3 (ipykernel)",
   "language": "python",
   "name": "python3"
  },
  "language_info": {
   "codemirror_mode": {
    "name": "ipython",
    "version": 3
   },
   "file_extension": ".py",
   "mimetype": "text/x-python",
   "name": "python",
   "nbconvert_exporter": "python",
   "pygments_lexer": "ipython3",
   "version": "3.12.7"
  }
 },
 "nbformat": 4,
 "nbformat_minor": 5
}
