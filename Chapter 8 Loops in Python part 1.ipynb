{
 "cells": [
  {
   "cell_type": "markdown",
   "id": "a1e5183b-fc50-4b99-8331-62d8db8df345",
   "metadata": {},
   "source": [
    "while loop"
   ]
  },
  {
   "cell_type": "code",
   "execution_count": 1,
   "id": "560064e6-45ad-4554-9d80-95d6b13e5cfd",
   "metadata": {},
   "outputs": [
    {
     "name": "stdout",
     "output_type": "stream",
     "text": [
      "1\n",
      "2\n",
      "3\n",
      "4\n",
      "5\n"
     ]
    }
   ],
   "source": [
    "count = 1\n",
    "while count<=5:\n",
    "    print(count)\n",
    "    count = count+1"
   ]
  },
  {
   "cell_type": "code",
   "execution_count": 2,
   "id": "f427a5a8-17a2-4ddf-993d-21feabbbe95e",
   "metadata": {},
   "outputs": [
    {
     "name": "stdout",
     "output_type": "stream",
     "text": [
      "2\n",
      "4\n",
      "6\n",
      "8\n",
      "10\n",
      "12\n",
      "14\n",
      "16\n",
      "18\n",
      "20\n",
      "22\n",
      "24\n",
      "26\n",
      "28\n",
      "30\n",
      "32\n",
      "34\n",
      "36\n",
      "38\n",
      "40\n",
      "42\n",
      "44\n",
      "46\n",
      "48\n",
      "50\n"
     ]
    }
   ],
   "source": [
    "num = 1\n",
    "\n",
    "while num<=50:\n",
    "    if num%2 ==0:\n",
    "        print(num)\n",
    "    num = num+1"
   ]
  },
  {
   "cell_type": "raw",
   "id": "8d7d4952-c55f-4319-a164-6df700b719b1",
   "metadata": {},
   "source": [
    "\n",
    "Email cheaker\n"
   ]
  },
  {
   "cell_type": "code",
   "execution_count": 11,
   "id": "a5800532-7605-4323-aa60-03b77cb53819",
   "metadata": {},
   "outputs": [
    {
     "name": "stdin",
     "output_type": "stream",
     "text": [
      "Enter email id nikhil@gmailcom\n"
     ]
    },
    {
     "name": "stdout",
     "output_type": "stream",
     "text": [
      "Invalid email address format. Please correct it and use (@ and .) .\n"
     ]
    },
    {
     "name": "stdin",
     "output_type": "stream",
     "text": [
      "please enter valid mail nikhilgmail.com\n"
     ]
    },
    {
     "name": "stdout",
     "output_type": "stream",
     "text": [
      "Invalid email address format. Please correct it and use (@ and .) .\n"
     ]
    },
    {
     "name": "stdin",
     "output_type": "stream",
     "text": [
      "please enter valid mail nikhil@gmail,com\n"
     ]
    },
    {
     "name": "stdout",
     "output_type": "stream",
     "text": [
      "Invalid email address format. Please correct it and use (@ and .) .\n"
     ]
    },
    {
     "name": "stdin",
     "output_type": "stream",
     "text": [
      "please enter valid mail xyz@gmail.com\n"
     ]
    },
    {
     "name": "stdout",
     "output_type": "stream",
     "text": [
      "validation is passed.\n"
     ]
    }
   ],
   "source": [
    "email = input(\"Enter email id\")\n",
    "valid_email = False\n",
    "while not valid_email:\n",
    "    if \"@\" in email and \".\" in email:\n",
    "        print(\"validation is passed.\")\n",
    "        valid_email = True\n",
    "    else :\n",
    "        print(\"Invalid email address format. Please correct it and use (@ and .) .\")\n",
    "        email = input(\"please enter valid mail\")"
   ]
  },
  {
   "cell_type": "code",
   "execution_count": null,
   "id": "fc3cdd08-7b26-4579-b0c8-07efd7bb080a",
   "metadata": {},
   "outputs": [],
   "source": []
  }
 ],
 "metadata": {
  "kernelspec": {
   "display_name": "Python 3 (ipykernel)",
   "language": "python",
   "name": "python3"
  },
  "language_info": {
   "codemirror_mode": {
    "name": "ipython",
    "version": 3
   },
   "file_extension": ".py",
   "mimetype": "text/x-python",
   "name": "python",
   "nbconvert_exporter": "python",
   "pygments_lexer": "ipython3",
   "version": "3.12.7"
  }
 },
 "nbformat": 4,
 "nbformat_minor": 5
}
